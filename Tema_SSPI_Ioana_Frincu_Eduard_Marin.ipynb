{
  "nbformat": 4,
  "nbformat_minor": 0,
  "metadata": {
    "kernelspec": {
      "display_name": "Python 3",
      "language": "python",
      "name": "python3"
    },
    "language_info": {
      "codemirror_mode": {
        "name": "ipython",
        "version": 3
      },
      "file_extension": ".py",
      "mimetype": "text/x-python",
      "name": "python",
      "nbconvert_exporter": "python",
      "pygments_lexer": "ipython3",
      "version": "3.7.6"
    },
    "colab": {
      "name": "Tema SSPI Ioana Frincu Eduard Marin.ipynb",
      "provenance": [],
      "include_colab_link": true
    }
  },
  "cells": [
    {
      "cell_type": "markdown",
      "metadata": {
        "id": "view-in-github",
        "colab_type": "text"
      },
      "source": [
        "<a href=\"https://colab.research.google.com/github/iafrincu/MLP-HOG-CIFAR10-classifier/blob/master/Tema_SSPI_Ioana_Frincu_Eduard_Marin.ipynb\" target=\"_parent\"><img src=\"https://colab.research.google.com/assets/colab-badge.svg\" alt=\"Open In Colab\"/></a>"
      ]
    },
    {
      "cell_type": "code",
      "metadata": {
        "id": "nw4ATDHHhUCx",
        "colab_type": "code",
        "colab": {
          "base_uri": "https://localhost:8080/",
          "height": 34
        },
        "outputId": "0bc2983a-3632-4b6a-ee6e-c719136eed29"
      },
      "source": [
        "from sklearn.neural_network import MLPClassifier\n",
        "from sklearn.datasets import make_classification\n",
        "from sklearn.model_selection import train_test_split\n",
        "import matplotlib.pyplot as plt\n",
        "from sklearn.metrics import confusion_matrix\n",
        "from sklearn.metrics import plot_confusion_matrix\n",
        "from sklearn.metrics import classification_report\n",
        "import matplotlib.pyplot as plt\n",
        "\n",
        "from skimage.feature import hog\n",
        "from skimage import data, exposure\n",
        "from skimage.color import rgb2gray\n",
        "\n",
        "#import cv2\n",
        "import joblib\n",
        "from joblib import dump, load\n",
        "import numpy as np\n",
        "from keras.datasets import cifar10\n",
        "from sklearn.svm import LinearSVC\n",
        "from sklearn.model_selection import GridSearchCV"
      ],
      "execution_count": 1,
      "outputs": [
        {
          "output_type": "stream",
          "text": [
            "Using TensorFlow backend.\n"
          ],
          "name": "stderr"
        }
      ]
    },
    {
      "cell_type": "code",
      "metadata": {
        "id": "Qzxf-HDPhUC8",
        "colab_type": "code",
        "colab": {
          "base_uri": "https://localhost:8080/",
          "height": 51
        },
        "outputId": "8bbb050b-9dde-477b-d7b1-ab9e3d565a47"
      },
      "source": [
        "(X_train, y_train), (X_test, y_test) = cifar10.load_data()"
      ],
      "execution_count": 2,
      "outputs": [
        {
          "output_type": "stream",
          "text": [
            "Downloading data from https://www.cs.toronto.edu/~kriz/cifar-10-python.tar.gz\n",
            "170500096/170498071 [==============================] - 4s 0us/step\n"
          ],
          "name": "stdout"
        }
      ]
    },
    {
      "cell_type": "code",
      "metadata": {
        "id": "wEsk3X8ghUDA",
        "colab_type": "code",
        "colab": {}
      },
      "source": [
        "def extract_features(data):\n",
        "    # conversie RBG grayscale\n",
        "    data_gray = [rgb2gray(instance) for instance in data]\n",
        "    # folosim tqdm pentru progress bars la extractia trasaturilor\n",
        "    data_hog = [hog(instance, cells_per_block=(2, 2)) for instance in data_gray]\n",
        "    \n",
        "    # hog(img1, orientations=2, pixels_per_cell=(2, 2), cells_per_block=(1, 1), visualize=True, multichannel=True)\n",
        "    return np.array(data_hog)"
      ],
      "execution_count": 0,
      "outputs": []
    },
    {
      "cell_type": "code",
      "metadata": {
        "id": "uUquIuhihUDD",
        "colab_type": "code",
        "outputId": "ed613713-02c8-4d6c-8a56-9fd2e309d8df",
        "colab": {
          "base_uri": "https://localhost:8080/",
          "height": 34
        }
      },
      "source": [
        "y_train = y_train.flatten() # set de date folosit la antrenare\n",
        "y_test = y_test.flatten() # labelurile folosite pentru imagini\n",
        "\n",
        "# flatten = o singura dimensiune\n",
        "print('Extragere trasaturi folosind HOG')\n",
        "# crearea obiectului\n"
      ],
      "execution_count": 4,
      "outputs": [
        {
          "output_type": "stream",
          "text": [
            "Extragere trasaturi folosind HOG\n"
          ],
          "name": "stdout"
        }
      ]
    },
    {
      "cell_type": "code",
      "metadata": {
        "id": "J2JGy30ChUDI",
        "colab_type": "code",
        "colab": {}
      },
      "source": [
        "X_train_features=extract_features(X_train)"
      ],
      "execution_count": 0,
      "outputs": []
    },
    {
      "cell_type": "code",
      "metadata": {
        "id": "L2s9CEGihUDM",
        "colab_type": "code",
        "colab": {}
      },
      "source": [
        "X_test_features=extract_features(X_test)"
      ],
      "execution_count": 0,
      "outputs": []
    },
    {
      "cell_type": "code",
      "metadata": {
        "id": "AQnFibEohUDP",
        "colab_type": "code",
        "colab": {}
      },
      "source": [
        "#clf = MLPClassifier() # grid search pe parametrii automat\n",
        "clf = MLPClassifier(learning_rate_init=0.01, hidden_layer_sizes=(100,)) #exp1\n",
        "#clf = MLPClassifier(learning_rate_init=0.01, hidden_layer_sizes=(500,)) #exp2\n",
        "#clf = MLPClassifier(learning_rate_init=0.01, hidden_layer_sizes=(1000,)) #exp3"
      ],
      "execution_count": 0,
      "outputs": []
    },
    {
      "cell_type": "code",
      "metadata": {
        "id": "XGxg-6RzhUDT",
        "colab_type": "code",
        "colab": {}
      },
      "source": [
        "clf.fit(X_train_features, y_train)"
      ],
      "execution_count": 0,
      "outputs": []
    },
    {
      "cell_type": "code",
      "metadata": {
        "id": "IRWHWE0DhUDX",
        "colab_type": "code",
        "colab": {}
      },
      "source": [
        "y_pred = clf.predict(X_test_features)"
      ],
      "execution_count": 0,
      "outputs": []
    },
    {
      "cell_type": "code",
      "metadata": {
        "id": "Za-3CnMuhUDa",
        "colab_type": "code",
        "colab": {}
      },
      "source": [
        "print(classification_report(y_test, y_pred)) # cel putin 58% "
      ],
      "execution_count": 0,
      "outputs": []
    },
    {
      "cell_type": "code",
      "metadata": {
        "id": "ZTJeQvbJhUDd",
        "colab_type": "code",
        "colab": {}
      },
      "source": [
        ""
      ],
      "execution_count": 0,
      "outputs": []
    }
  ]
}