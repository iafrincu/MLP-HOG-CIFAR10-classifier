{
  "nbformat": 4,
  "nbformat_minor": 0,
  "metadata": {
    "kernelspec": {
      "display_name": "Python 3",
      "language": "python",
      "name": "python3"
    },
    "language_info": {
      "codemirror_mode": {
        "name": "ipython",
        "version": 3
      },
      "file_extension": ".py",
      "mimetype": "text/x-python",
      "name": "python",
      "nbconvert_exporter": "python",
      "pygments_lexer": "ipython3",
      "version": "3.7.6"
    },
    "colab": {
      "name": "Tema SSPI Ioana Frincu Eduard Marin.ipynb",
      "provenance": [],
      "include_colab_link": true
    }
  },
  "cells": [
    {
      "cell_type": "markdown",
      "metadata": {
        "id": "view-in-github",
        "colab_type": "text"
      },
      "source": [
        "<a href=\"https://colab.research.google.com/github/iafrincu/MLP-HOG-CIFAR10-classifier/blob/master/Tema_SSPI_Ioana_Frincu_Eduard_Marin.ipynb\" target=\"_parent\"><img src=\"https://colab.research.google.com/assets/colab-badge.svg\" alt=\"Open In Colab\"/></a>"
      ]
    },
    {
      "cell_type": "code",
      "metadata": {
        "id": "nw4ATDHHhUCx",
        "colab_type": "code",
        "colab": {}
      },
      "source": [
        "from sklearn.neural_network import MLPClassifier\n",
        "from sklearn.datasets import make_classification\n",
        "from sklearn.model_selection import train_test_split\n",
        "from sklearn.metrics import confusion_matrix\n",
        "from sklearn.metrics import plot_confusion_matrix\n",
        "from sklearn.metrics import classification_report\n",
        "import matplotlib.pyplot as plt\n",
        "\n",
        "from skimage.feature import hog\n",
        "from skimage import data, exposure\n",
        "from skimage.color import rgb2gray\n",
        "\n",
        "import joblib\n",
        "from joblib import dump, load\n",
        "import numpy as np\n",
        "from keras.datasets import cifar10\n",
        "from sklearn.svm import LinearSVC\n",
        "from sklearn.model_selection import GridSearchCV"
      ],
      "execution_count": 0,
      "outputs": []
    },
    {
      "cell_type": "code",
      "metadata": {
        "id": "Qzxf-HDPhUC8",
        "colab_type": "code",
        "colab": {}
      },
      "source": [
        "(X_train, y_train), (X_test, y_test) = cifar10.load_data()"
      ],
      "execution_count": 0,
      "outputs": []
    },
    {
      "cell_type": "code",
      "metadata": {
        "id": "wEsk3X8ghUDA",
        "colab_type": "code",
        "colab": {}
      },
      "source": [
        "def extract_features(data):\n",
        "    # conversie RBG grayscale\n",
        "    data_gray = [rgb2gray(instance) for instance in data]\n",
        "    # folosim tqdm pentru progress bars la extractia trasaturilor\n",
        "    data_hog = [hog(instance, cells_per_block=(2, 2)) for instance in data_gray]\n",
        "    return np.array(data_hog)"
      ],
      "execution_count": 0,
      "outputs": []
    },
    {
      "cell_type": "code",
      "metadata": {
        "id": "uUquIuhihUDD",
        "colab_type": "code",
        "outputId": "dca0ec6c-e2f3-4c70-c179-2519b16235a4",
        "colab": {
          "base_uri": "https://localhost:8080/",
          "height": 34
        }
      },
      "source": [
        "y_train = y_train.flatten() # set de date folosit la antrenare\n",
        "y_test = y_test.flatten() # labelurile folosite pentru imagini\n",
        "\n",
        "# flatten = o singura dimensiune\n",
        "print('Extragere trasaturi folosind HOG')\n",
        "# crearea obiectului\n"
      ],
      "execution_count": 24,
      "outputs": [
        {
          "output_type": "stream",
          "text": [
            "Extragere trasaturi folosind HOG\n"
          ],
          "name": "stdout"
        }
      ]
    },
    {
      "cell_type": "code",
      "metadata": {
        "id": "J2JGy30ChUDI",
        "colab_type": "code",
        "colab": {}
      },
      "source": [
        "X_train_features=extract_features(X_train)"
      ],
      "execution_count": 0,
      "outputs": []
    },
    {
      "cell_type": "code",
      "metadata": {
        "id": "L2s9CEGihUDM",
        "colab_type": "code",
        "colab": {}
      },
      "source": [
        "X_test_features=extract_features(X_test)"
      ],
      "execution_count": 0,
      "outputs": []
    },
    {
      "cell_type": "code",
      "metadata": {
        "id": "AQnFibEohUDP",
        "colab_type": "code",
        "colab": {}
      },
      "source": [
        "#clf = MLPClassifier() # grid search pe parametrii automat\n",
        "#clf = MLPClassifier(learning_rate_init=0.01, hidden_layer_sizes=(100,)) #exp1\n",
        "#clf = MLPClassifier(learning_rate_init=0.01, hidden_layer_sizes=(500,)) #exp2\n",
        "clf = MLPClassifier(learning_rate_init=0.01, hidden_layer_sizes=(1000,)) #exp3"
      ],
      "execution_count": 0,
      "outputs": []
    },
    {
      "cell_type": "code",
      "metadata": {
        "id": "XGxg-6RzhUDT",
        "colab_type": "code",
        "colab": {
          "base_uri": "https://localhost:8080/",
          "height": 187
        },
        "outputId": "f5137de9-53b3-436c-d5d1-f8f192ed7e18"
      },
      "source": [
        "clf.fit(X_train_features, y_train)"
      ],
      "execution_count": 28,
      "outputs": [
        {
          "output_type": "stream",
          "text": [
            "/usr/local/lib/python3.6/dist-packages/sklearn/neural_network/_multilayer_perceptron.py:571: ConvergenceWarning: Stochastic Optimizer: Maximum iterations (200) reached and the optimization hasn't converged yet.\n",
            "  % self.max_iter, ConvergenceWarning)\n"
          ],
          "name": "stderr"
        },
        {
          "output_type": "execute_result",
          "data": {
            "text/plain": [
              "MLPClassifier(activation='relu', alpha=0.0001, batch_size='auto', beta_1=0.9,\n",
              "              beta_2=0.999, early_stopping=False, epsilon=1e-08,\n",
              "              hidden_layer_sizes=(1000,), learning_rate='constant',\n",
              "              learning_rate_init=0.01, max_fun=15000, max_iter=200,\n",
              "              momentum=0.9, n_iter_no_change=10, nesterovs_momentum=True,\n",
              "              power_t=0.5, random_state=None, shuffle=True, solver='adam',\n",
              "              tol=0.0001, validation_fraction=0.1, verbose=False,\n",
              "              warm_start=False)"
            ]
          },
          "metadata": {
            "tags": []
          },
          "execution_count": 28
        }
      ]
    },
    {
      "cell_type": "code",
      "metadata": {
        "id": "IRWHWE0DhUDX",
        "colab_type": "code",
        "colab": {}
      },
      "source": [
        "y_pred = clf.predict(X_test_features)"
      ],
      "execution_count": 0,
      "outputs": []
    },
    {
      "cell_type": "code",
      "metadata": {
        "id": "Za-3CnMuhUDa",
        "colab_type": "code",
        "colab": {
          "base_uri": "https://localhost:8080/",
          "height": 306
        },
        "outputId": "d61e66c2-8108-4a25-8aeb-d20aea554f5f"
      },
      "source": [
        "print(classification_report(y_test, y_pred)) # cel putin 58% "
      ],
      "execution_count": 30,
      "outputs": [
        {
          "output_type": "stream",
          "text": [
            "              precision    recall  f1-score   support\n",
            "\n",
            "           0       0.58      0.60      0.59      1000\n",
            "           1       0.73      0.66      0.69      1000\n",
            "           2       0.48      0.44      0.46      1000\n",
            "           3       0.37      0.37      0.37      1000\n",
            "           4       0.42      0.51      0.46      1000\n",
            "           5       0.41      0.47      0.43      1000\n",
            "           6       0.58      0.63      0.60      1000\n",
            "           7       0.67      0.54      0.60      1000\n",
            "           8       0.60      0.60      0.60      1000\n",
            "           9       0.69      0.62      0.65      1000\n",
            "\n",
            "    accuracy                           0.54     10000\n",
            "   macro avg       0.55      0.54      0.55     10000\n",
            "weighted avg       0.55      0.54      0.55     10000\n",
            "\n"
          ],
          "name": "stdout"
        }
      ]
    },
    {
      "cell_type": "code",
      "metadata": {
        "id": "ZTJeQvbJhUDd",
        "colab_type": "code",
        "colab": {}
      },
      "source": [
        ""
      ],
      "execution_count": 0,
      "outputs": []
    }
  ]
}